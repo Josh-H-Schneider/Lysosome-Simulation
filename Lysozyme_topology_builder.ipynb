{
 "cells": [
  {
   "cell_type": "code",
   "execution_count": null,
   "id": "8adebeae",
   "metadata": {},
   "outputs": [],
   "source": [
    "# Imports\n",
    "try:\n",
    "    from openmm import app, unit\n",
    "    from openmm.app import HBonds, NoCutoff, PDBFile\n",
    "except ImportError:\n",
    "    from simtk import unit\n",
    "    from simtk.openmm import app\n",
    "    from simtk.openmm.app import PDBFile, HBonds, NoCutoff\n",
    "\n",
    "from openff.toolkit.topology import Molecule, Topology\n",
    "from openff.toolkit.typing.engines.smirnoff import ForceField\n",
    "from openff.toolkit.utils import get_data_file_path\n",
    "\n",
    "Lysozyme_pdb = '4w53.pdb'"
   ]
  }
 ],
 "metadata": {
  "kernelspec": {
   "display_name": "Python 3 (ipykernel)",
   "language": "python",
   "name": "python3"
  },
  "language_info": {
   "codemirror_mode": {
    "name": "ipython",
    "version": 3
   },
   "file_extension": ".py",
   "mimetype": "text/x-python",
   "name": "python",
   "nbconvert_exporter": "python",
   "pygments_lexer": "ipython3",
   "version": "3.7.12"
  }
 },
 "nbformat": 4,
 "nbformat_minor": 5
}
